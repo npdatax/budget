{
 "cells": [
  {
   "cell_type": "markdown",
   "metadata": {},
   "source": [
    "## MeSH Tree"
   ]
  },
  {
   "cell_type": "code",
   "execution_count": 63,
   "metadata": {},
   "outputs": [],
   "source": [
    "import json\n",
    "import sys\n",
    "import time\n",
    "import pandas as pd"
   ]
  },
  {
   "cell_type": "code",
   "execution_count": 64,
   "metadata": {},
   "outputs": [],
   "source": [
    "Tree = pd.read_csv('ttree.csv')"
   ]
  },
  {
   "cell_type": "code",
   "execution_count": 65,
   "metadata": {},
   "outputs": [],
   "source": [
    "jsonTree  = {}\n",
    "for ID,name,amount in zip(Tree['id'],Tree['name'],Tree['amount']):\n",
    "    jsonTree.update({ID:name + ' : (' + str(amount) + ')'})"
   ]
  },
  {
   "cell_type": "code",
   "execution_count": 66,
   "metadata": {},
   "outputs": [
    {
     "data": {
      "text/plain": [
       "{'1': 'Root : (Taxes)',\n",
       " '1.1': 'Taxes : (6,57,75,15)',\n",
       " '1.1.1': 'Taxes on Incom, profit, and capital gains : (1,65,86,13)',\n",
       " '1.1.1.1': 'Pyable by individual and sole traders : (38,78,96)',\n",
       " '1.1.1.1.1': 'Individual or Sole Traders  : (14,34,62)',\n",
       " '1.1.1.1.2': 'Remuneration Tax : (16,43,18)',\n",
       " '1.1.1.1.3': 'Capital Gain - Individual : (8,01,16)',\n",
       " '1.1.1.2': 'Payable by enterprizes and corporations : (1,03,10,84)',\n",
       " '1.1.1.2.1': 'Company Profit Tax - Government Corporation Companies : (8,24,14)',\n",
       " '1.1.1.2.2': 'Company Profit Tax - Public Limited companies : (37,29,69)',\n",
       " '1.1.1.2.3': 'Company Profit Tax- Private Limited Companies : (35,99,20)',\n",
       " '1.1.1.2.4': 'Company Profit Tax -Other Institutions : (6,24,53)',\n",
       " '1.1.1.2.5': 'Capital gain - Entity : (15,33,28)',\n",
       " '1.1.1.3': 'Taxes on Investment and other income : (23,96,33)',\n",
       " '1.1.1.3.1': 'Taxes on Rent and Lease Income : (3,56,54)',\n",
       " '1.1.1.3.2': 'Interest : (15,23,90)',\n",
       " '1.1.1.3.3': 'Dividend : (4,15,29)',\n",
       " '1.1.1.3.4': 'Other Investment Income : (5,93)',\n",
       " '1.1.1.3.5': 'Tax on gambling, lottery, souviner and grants : (13,66)',\n",
       " '1.1.1.3.6': 'Taxes on other Income : (81,01)',\n",
       " '1.1.2': 'Taxes on Payroll and workforce : (4,60,40)',\n",
       " '1.1.2.1': 'Social Security Taxes on Payroll : (4,60,40)',\n",
       " '1.1.2.1.1': 'Social Security Taxes on Payroll : (4,60,40)',\n",
       " '1.1.3': 'Taxes on Property : (15,91,12)',\n",
       " '1.1.3.1': 'Recurrent taxes on immovable property : (17,12)',\n",
       " '1.1.3.1.1': 'Annual Property tax : (17,12)',\n",
       " '1.1.3.4': 'Taxes on financial and capital transections : (15,74,00)',\n",
       " '1.1.3.4.1': 'House and land registration : (15,74,00)',\n",
       " '1.1.4': 'Taxes on goods and services : (3,43,12,24)',\n",
       " '1.1.4.1': 'VAT : (1,97,50,86)',\n",
       " '1.1.4.1.1': 'VAT - Production : (25,91,18)',\n",
       " '1.1.4.1.2': 'VAT - Import : (1,22,39,54)',\n",
       " '1.1.4.1.3': 'VAT - Goods, Sales & Distribution : (18,50,90)',\n",
       " '1.1.4.1.4': 'VAT - Services & Contracts : (12,54,18)',\n",
       " '1.1.4.1.5': 'VAT - Services, Tourism : (2,31,09)',\n",
       " '1.1.4.1.6': 'VAT - Telephone, Insurance & Air Travel : (12,61,38)',\n",
       " '1.1.4.1.7': 'VAT - Non Registered(Reverse Charge) : (3,22,59)',\n",
       " '1.1.4.2': 'Excise : (1,05,53,65)',\n",
       " '1.1.4.2.1': 'Tobacco : (13,77,90)',\n",
       " '1.1.4.2.2': 'Alcohol : (23,48,48)',\n",
       " '1.1.4.2.3': 'Beer : (14,03,54)',\n",
       " '1.1.4.2.4': 'Excise on other produced items : (7,95,63)',\n",
       " '1.1.4.2.5': 'Import Duties : (46,28,10)',\n",
       " '1.1.4.4': 'Taxes on specific services : (2,02,08)',\n",
       " '1.1.4.4.1': 'Foreign Employment Services : (9)',\n",
       " '1.1.4.4.2': 'Health Services : (1,12,34)',\n",
       " '1.1.4.4.3': 'Education Services- Education Institute : (51,70)',\n",
       " '1.1.4.4.4': 'Education Services- Aboard Study : (37,95)',\n",
       " '1.1.4.5': 'Taxes on use of goods and on permission to use : (38,05,65)',\n",
       " '1.1.4.5.1': 'Vehicle Tax : (10,70,42)',\n",
       " '1.1.4.5.2': 'Taxes on the use of infrastructure : (1,76,70)',\n",
       " '1.1.4.5.3': 'Road Maintenance and Improvement Duty : (3,99,62)',\n",
       " '1.1.4.5.4': 'Road Construction and Maintenance Duty : (10,69,09)',\n",
       " '1.1.4.5.5': 'Infrastructure Tax : (10,89,82)',\n",
       " '1.1.5': 'Taxes on international trade and transactions : (1,21,33,76)',\n",
       " '1.1.5.1': 'Customs and other import duties : (1,15,87,96)',\n",
       " '1.1.5.1.1': 'Import duties : (1,15,87,83)',\n",
       " '1.1.5.1.2': 'Indian Excise Refund Fees : (7)',\n",
       " '1.1.5.1.3': 'Local Development Fees : (6)',\n",
       " '1.1.5.2': 'Taxes on exports : (10,94)',\n",
       " '1.1.5.2.1': 'Export duty : (10,56)',\n",
       " '1.1.5.2.2': 'Export Service Charge : (38)',\n",
       " '1.1.5.6': 'Other taxes on international trade and transactions : (5,34,86)',\n",
       " '1.1.5.6.1': 'Agriculture service charge on imports : (4,78,32)',\n",
       " '1.1.5.6.2': 'Other Income related to Customs : (56,54)',\n",
       " '1.1.6': 'Other taxes : (6,91,50)',\n",
       " '1.1.6.1': 'Registration Fee : (2,06,03)',\n",
       " '1.1.6.1.1': 'Firm Registration Fee : (1,93,52)',\n",
       " '1.1.6.1.2': 'Agency Registeration Fee : (12,51)',\n",
       " '1.1.6.2': 'Ownership Certificate Charge : (4,85,47)',\n",
       " '1.1.6.2.1': 'Driving Licence & Vehicle Ownership Certificate Charge : (4,84,33)',\n",
       " '1.1.6.2.2': 'Fire Arms Registration : (1,14)',\n",
       " '1.4': 'Non Tax Revenue : (70,59,85)',\n",
       " '1.4.1': 'Property Income : (32,97,64)',\n",
       " '1.4.1.1': 'Interest : (2,95,50)',\n",
       " '1.4.1.1.1': 'Interest from financial institutions : (22,76)',\n",
       " '1.4.1.1.2': 'Interest from commercial institutions : (12)',\n",
       " '1.4.1.1.3': 'Interest from industrial institutions : (17)',\n",
       " '1.4.1.1.4': 'Interest from service oriented institutions : (2,71,51)',\n",
       " '1.4.1.1.5': 'Interest from other institutions : (94)',\n",
       " '1.4.1.2': 'Dividends : (16,85,44)',\n",
       " '1.4.1.2.1': 'Dividend from Financial Institutions : (10,67,46)',\n",
       " '1.4.1.2.2': 'Dividend from Commercial Institutions : (19,57)',\n",
       " '1.4.1.2.3': 'Dividend from Industrial Institution : (4,12)',\n",
       " '1.4.1.2.4': 'Dividend from Service Oriented Organization : (5,94,29)',\n",
       " '1.4.1.2.5': 'Dividend from Other Institutions : (0)',\n",
       " '1.4.1.5': 'Rent & Royalty : (13,16,70)',\n",
       " '1.4.1.5.1': 'Rent on Lease of Government Property : (84,17)',\n",
       " '1.4.1.5.2': 'Royalty on Casino Operations : (29,53)',\n",
       " '1.4.1.5.3': 'Royalty from Mine Extraction : (55,36)',\n",
       " '1.4.1.5.4': 'Income & Royalty from Water Resources Sector Hydro Power Projects : (2,55,75)',\n",
       " '1.4.1.5.5': 'Royalty and Other Income from the Sales of Forest Products : (2,09,76)',\n",
       " '1.4.1.5.6': 'Other Royalty : (6,82,13)',\n",
       " '1.4.2': 'Sales of Goods and Services : (19,58,80)',\n",
       " '1.4.2.1': 'Sales of Goods : (11,47,32)',\n",
       " '1.4.2.1.1': 'Sales of agriculture product : (20,17)',\n",
       " '1.4.2.1.2': 'Sale of Government Property : (37,97)',\n",
       " '1.4.2.1.3': 'Sales of other items : (19,20)',\n",
       " '1.4.2.1.4': 'Telephone Services Fee : (8,77,09)',\n",
       " '1.4.2.1.5': 'Charge for the use of Telephone Services : (1,92,52)',\n",
       " '1.4.2.1.6': 'Water Connection & Supply : (10)',\n",
       " '1.4.2.1.7': 'Fee for use of Water for Irrigation : (24)',\n",
       " '1.4.2.1.8': 'Charges for Consumption of Electricity : (3)',\n",
       " '1.4.2.2': 'Administrative Fees : (8,11,48)',\n",
       " '1.4.2.2.1': 'Judicial Fee Duty : (1,26,94)',\n",
       " '1.4.2.2.2': 'Charges for use of Postal Services : (58,47)',\n",
       " '1.4.2.2.3': 'Income from Education Sector : (62,77)',\n",
       " '1.4.2.2.4': 'Exam Fee : (45,11)',\n",
       " '1.4.2.2.5': 'Transport Sector : (82,12)',\n",
       " '1.4.2.2.6': 'Export Import License Fee : (16,57)',\n",
       " '1.4.2.2.7': 'Other Administrative Fees : (4,19,50)',\n",
       " '1.4.3': 'Penalties Fines & Forfeiture : (99,80)',\n",
       " '1.4.3.1': 'Penalties Fines & Forfeiture : (99,80)',\n",
       " '1.4.3.1.1': 'Judicial Penalty, Fines and Forfeiture : (18,94)',\n",
       " '1.4.3.1.2': 'Administrative Penalty, Fines and Forfeiture : (80,86)',\n",
       " '1.4.4': 'Voluntary Transfers other than Grants : (12)',\n",
       " '1.4.4.1': 'Voluntary Transfers other than Grants : (12)',\n",
       " '1.4.4.1.1': 'Recurrent : (11)',\n",
       " '1.4.4.1.2': 'Capital : (1)',\n",
       " '1.4.5': 'Miscellaneous Revenue : (17,03,49)',\n",
       " '1.4.5.1': 'Administrative Fee - Immigration and Tourism : (9,97,95)',\n",
       " '1.4.5.1.1': 'Charges for Issuing Passports : (5,88,96)',\n",
       " '1.4.5.1.2': 'Visa Fees : (3,00,50)',\n",
       " '1.4.5.1.3': 'Permit for Mountaineering and Trekking : (1,07,63)',\n",
       " '1.4.5.1.4': 'Other Fee from Tourists : (86)',\n",
       " '1.4.5.2': 'Other Revenue : (7,03,98)',\n",
       " '1.4.5.2.1': 'Pollution Control Fees : (1,44,39)',\n",
       " '1.4.5.2.2': 'Other Revenue : (5,59,59)',\n",
       " '1.4.5.3': 'Capital Revenue : (1,56)',\n",
       " '1.4.5.3.1': 'Sales of Government Land and Building : (1,56)'}"
      ]
     },
     "execution_count": 66,
     "metadata": {},
     "output_type": "execute_result"
    }
   ],
   "source": [
    "jsonTree"
   ]
  },
  {
   "cell_type": "markdown",
   "metadata": {},
   "source": [
    "## Tree Plot with Java Script"
   ]
  },
  {
   "cell_type": "markdown",
   "metadata": {},
   "source": [
    "#### Sample tree file"
   ]
  },
  {
   "cell_type": "code",
   "execution_count": 67,
   "metadata": {},
   "outputs": [],
   "source": [
    "sample = []\n",
    "for key,values in jsonTree.items():\n",
    "    items = key.split('.')\n",
    "    name = jsonTree[items[0]]\n",
    "    ID = items[0]\n",
    "    #print(ID,name)\n",
    "    l = len(items)\n",
    "    if l >1:\n",
    "        for i in range(1,l):\n",
    "            ID = ID + '.' + items[i]\n",
    "            name = name + '.' + jsonTree[ID]\n",
    "            \n",
    "    sample.append({'id': name,'value': ID})\n",
    "    #print(ID,name)\n",
    "SM = pd.DataFrame(sample)\n",
    "SM = SM.sort_values( ['value'],axis =0,ascending =True)\n",
    "SM = SM.set_index('id')\n",
    "SM.to_csv('sample.csv')        "
   ]
  },
  {
   "cell_type": "code",
   "execution_count": null,
   "metadata": {},
   "outputs": [],
   "source": []
  },
  {
   "cell_type": "code",
   "execution_count": null,
   "metadata": {},
   "outputs": [],
   "source": []
  }
 ],
 "metadata": {
  "kernelspec": {
   "display_name": "Python 3",
   "language": "python",
   "name": "python3"
  },
  "language_info": {
   "codemirror_mode": {
    "name": "ipython",
    "version": 3
   },
   "file_extension": ".py",
   "mimetype": "text/x-python",
   "name": "python",
   "nbconvert_exporter": "python",
   "pygments_lexer": "ipython3",
   "version": "3.6.4"
  }
 },
 "nbformat": 4,
 "nbformat_minor": 2
}
